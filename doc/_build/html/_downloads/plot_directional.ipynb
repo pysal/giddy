{
  "cells": [
    {
      "cell_type": "code",
      "execution_count": null,
      "metadata": {
        "collapsed": false
      },
      "outputs": [],
      "source": [
        "%matplotlib inline"
      ]
    },
    {
      "cell_type": "markdown",
      "metadata": {},
      "source": [
        "\n# Plot directional\n\n\n\n"
      ]
    },
    {
      "cell_type": "code",
      "execution_count": null,
      "metadata": {
        "collapsed": false
      },
      "outputs": [],
      "source": [
        "import libpysal as lps\nimport numpy as np\n\nfrom giddy.directional import Rose\n\n# In[2]:\n\n\nf = open(lps.examples.get_path('spi_download.csv'), 'r')\nlines = f.readlines()\nf.close()\n\n\n# In[3]:\n\n\nlines = [line.strip().split(\",\") for line in lines]\nnames = [line[2] for line in lines[1:-5]]\ndata = np.array([list(map(int, line[3:])) for line in lines[1:-5]])\n\n\n# In[4]:\n\n\nsids  = range(60)\nout = ['\"United States 3/\"',\n      '\"Alaska 3/\"',\n      '\"District of Columbia\"',\n      '\"Hawaii 3/\"',\n      '\"New England\"','\"Mideast\"',\n       '\"Great Lakes\"',\n       '\"Plains\"',\n       '\"Southeast\"',\n       '\"Southwest\"',\n       '\"Rocky Mountain\"',\n       '\"Far West 3/\"']\n\n\n# In[5]:\n\n\nsnames = [name for name in names if name not in out]\n\n\n# In[6]:\n\n\nsids = [names.index(name) for name in snames]\n\n\n# In[7]:\n\n\nstates = data[sids,:]\nus = data[0]\nyears = np.arange(1969, 2009)\n\n\n# In[8]:\n\n\nus\n\n\n# In[9]:\n\n\nrel = states/(us*1.)\n\n\n# In[10]:\n\n\nrel[0]\n\n\n# In[11]:\n\n\nrel[1]\n\n\n# In[12]:\n\n\nrel.shape\n\n\n# In[13]:\n\n\ngal = lps.open(lps.examples.get_path('states48.gal'))\nw = gal.read()\nw.transform = 'r'\n\n\n# In[14]:\n\n\nY = rel[:, [0, -1]]\n\n\n# In[15]:\n\n\nY.shape\n\n\n# In[16]:\n\n\nY\n\n\n# In[17]:\n\n\nr4 = Rose(Y, w, k=4)\n\n\n# ## Visualization\n\n# In[18]:\n\n\nr4.plot_vectors() # lisa vectors\n\n\n# In[19]:\n\n\nr4.plot_origin() # origin standardized\n\n\n# In[20]:\n\n\nr4.plot() # Polar\n\n\n# In[21]:\n\n\nr4.plot(attribute=Y[:,0]) # condition on starting relative income\n\n\n# In[22]:\n\n\nr4.plot(attribute=r4.lag[:,0]) # condition on lag of starting relative income\n\n\n# ## Inference\n# \n# The Rose class contains methods to carry out inference on the circular distribution of the LISA vectors. The first approach is based on a two-sided alternative where the null is that the distribution of the vectors across the segments reflects independence in the movements of the focal unit and its spatial lag. Inference is based on random spatial permutations under the null.\n\n# In[23]:\n\n\nr4.cuts\n\n\n# In[24]:\n\n\nr4.counts\n\n\n# In[25]:\n\n\nnp.random.seed(1234)\n\n\n# In[26]:\n\n\nr4.permute(permutations=999)\n\n\n# In[27]:\n\n\nr4.p\n\n\n# Here all the four sector counts are signficantly different from their expectation under the null.\n\n# A directional test can also be implemented. Here the direction of the departure from the null due to positive co-movement of a focal unit and its spatial lag over the time period results in two  two general cases. For sectors in the positive quadrants (I and III), the observed counts are considered extreme if they are larger than expectation, while for the negative quadrants (II, IV) the observed counts are considered extreme if they are small than the expected counts under the null.\n\n# In[28]:\n\n\nr4.permute(alternative='positive', permutations=999)\nr4.p\n\n\n# In[29]:\n\n\nr4.expected_perm\n\n\n# Finally, a directional alternative reflecting negative association between the movement of the focal unit and its lag has the complimentary interpretation to the positive alternative: lower counts in I and III, and higher counts in II and IV relative to the null.\n\n# In[30]:\n\n\nr4.permute(alternative='negative', permutations=999)\nr4.p"
      ]
    }
  ],
  "metadata": {
    "kernelspec": {
      "display_name": "Python 3",
      "language": "python",
      "name": "python3"
    },
    "language_info": {
      "codemirror_mode": {
        "name": "ipython",
        "version": 3
      },
      "file_extension": ".py",
      "mimetype": "text/x-python",
      "name": "python",
      "nbconvert_exporter": "python",
      "pygments_lexer": "ipython3",
      "version": "3.6.5"
    }
  },
  "nbformat": 4,
  "nbformat_minor": 0
}